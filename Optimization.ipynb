{
 "cells": [
  {
   "cell_type": "code",
   "execution_count": 1,
   "id": "bda1b728",
   "metadata": {},
   "outputs": [],
   "source": [
    "from itertools import islice\n",
    "\n",
    "import sqlite3\n",
    "import pandas as pd\n",
    "import numpy as np\n",
    "\n",
    "from matplotlib import pyplot as plt\n",
    "\n",
    "from sklearn.linear_model import Ridge\n",
    "from sklearn.metrics import mean_squared_error\n",
    "from scipy.interpolate import interp1d\n",
    "\n",
    "from sklearn.preprocessing import PolynomialFeatures\n",
    "from sklearn.pipeline import make_pipeline"
   ]
  },
  {
   "cell_type": "code",
   "execution_count": 2,
   "id": "251f8881",
   "metadata": {},
   "outputs": [],
   "source": [
    "def window(seq, n=2):\n",
    "    \"Returns a sliding window (of width n) over data from the iterable\"\n",
    "    \"   s -> (s0,s1,...s[n-1]), (s1,s2,...,sn), ...                   \"\n",
    "    it = iter(seq)\n",
    "    result = tuple(islice(it, n))\n",
    "    if len(result) == n:\n",
    "        yield result\n",
    "    for elem in it:\n",
    "        result = result[1:] + (elem,)\n",
    "        yield result"
   ]
  },
  {
   "cell_type": "code",
   "execution_count": 3,
   "id": "7eff68be",
   "metadata": {},
   "outputs": [],
   "source": [
    "def normalize_datetime64s(input):\n",
    "    return (pd.to_numeric(input) - np.min(pd.to_numeric(input))) / 1000000000"
   ]
  },
  {
   "cell_type": "markdown",
   "id": "effc8fdb",
   "metadata": {},
   "source": [
    "## Read in data"
   ]
  },
  {
   "cell_type": "code",
   "execution_count": 4,
   "id": "56eff5a5",
   "metadata": {},
   "outputs": [],
   "source": [
    "conn = sqlite3.connect(\"star.db\")"
   ]
  },
  {
   "cell_type": "code",
   "execution_count": 5,
   "id": "d9296c13",
   "metadata": {},
   "outputs": [],
   "source": [
    "df = pd.read_sql_query(\"SELECT * FROM temperature\",\n",
    "                       conn,\n",
    "                       parse_dates=('recorded_at'))\n",
    "df_humidity = pd.read_sql_query(\"SELECT * FROM humidity\",\n",
    "                                conn,\n",
    "                                parse_dates=('recorded_at'))\n",
    "df_pressure = pd.read_sql_query(\"SELECT * FROM pressure\",\n",
    "                                conn,\n",
    "                                parse_dates=('recorded_at'))\n",
    "df_battery_voltage = pd.read_sql_query(\"SELECT * FROM battery_voltage\",\n",
    "                                       conn,\n",
    "                                       parse_dates=('recorded_at'))"
   ]
  },
  {
   "cell_type": "code",
   "execution_count": 6,
   "id": "9f19de3d",
   "metadata": {},
   "outputs": [],
   "source": [
    "conn.close()"
   ]
  },
  {
   "cell_type": "code",
   "execution_count": 7,
   "id": "12611cdd",
   "metadata": {},
   "outputs": [
    {
     "data": {
      "text/plain": [
       "0         2021-08-25 21:00:00\n",
       "1         2021-08-25 21:00:01\n",
       "2         2021-08-25 21:00:04\n",
       "3         2021-08-25 21:00:05\n",
       "4         2021-08-25 21:00:10\n",
       "                  ...        \n",
       "2347214   2021-12-01 17:44:47\n",
       "2347215   2021-12-01 17:45:21\n",
       "2347216   2021-12-01 17:45:51\n",
       "2347217   2021-12-01 17:47:01\n",
       "2347218   2021-12-01 17:48:19\n",
       "Name: recorded_at, Length: 2347219, dtype: datetime64[ns]"
      ]
     },
     "execution_count": 7,
     "metadata": {},
     "output_type": "execute_result"
    }
   ],
   "source": [
    "df.recorded_at"
   ]
  },
  {
   "cell_type": "markdown",
   "id": "f69538fe",
   "metadata": {},
   "source": [
    "## Limit to a subset "
   ]
  },
  {
   "cell_type": "code",
   "execution_count": 8,
   "id": "911cebea",
   "metadata": {},
   "outputs": [
    {
     "data": {
      "text/html": [
       "<div>\n",
       "<style scoped>\n",
       "    .dataframe tbody tr th:only-of-type {\n",
       "        vertical-align: middle;\n",
       "    }\n",
       "\n",
       "    .dataframe tbody tr th {\n",
       "        vertical-align: top;\n",
       "    }\n",
       "\n",
       "    .dataframe thead th {\n",
       "        text-align: right;\n",
       "    }\n",
       "</style>\n",
       "<table border=\"1\" class=\"dataframe\">\n",
       "  <thead>\n",
       "    <tr style=\"text-align: right;\">\n",
       "      <th></th>\n",
       "      <th>recorded_at</th>\n",
       "      <th>sensor</th>\n",
       "      <th>value</th>\n",
       "    </tr>\n",
       "  </thead>\n",
       "  <tbody>\n",
       "    <tr>\n",
       "      <th>2345798</th>\n",
       "      <td>2021-12-01 16:00:01</td>\n",
       "      <td>E50490B330D9</td>\n",
       "      <td>13.05</td>\n",
       "    </tr>\n",
       "    <tr>\n",
       "      <th>2345799</th>\n",
       "      <td>2021-12-01 16:00:02</td>\n",
       "      <td>FC8C4D046AA9</td>\n",
       "      <td>13.63</td>\n",
       "    </tr>\n",
       "    <tr>\n",
       "      <th>2345800</th>\n",
       "      <td>2021-12-01 16:00:05</td>\n",
       "      <td>E3DB8BE6F78D</td>\n",
       "      <td>17.30</td>\n",
       "    </tr>\n",
       "    <tr>\n",
       "      <th>2345801</th>\n",
       "      <td>2021-12-01 16:00:07</td>\n",
       "      <td>C21A09D4E1DB</td>\n",
       "      <td>4.94</td>\n",
       "    </tr>\n",
       "    <tr>\n",
       "      <th>2345802</th>\n",
       "      <td>2021-12-01 16:00:11</td>\n",
       "      <td>E50490B330D9</td>\n",
       "      <td>13.06</td>\n",
       "    </tr>\n",
       "    <tr>\n",
       "      <th>...</th>\n",
       "      <td>...</td>\n",
       "      <td>...</td>\n",
       "      <td>...</td>\n",
       "    </tr>\n",
       "    <tr>\n",
       "      <th>2346791</th>\n",
       "      <td>2021-12-01 16:59:25</td>\n",
       "      <td>C21A09D4E1DB</td>\n",
       "      <td>4.53</td>\n",
       "    </tr>\n",
       "    <tr>\n",
       "      <th>2346792</th>\n",
       "      <td>2021-12-01 16:59:36</td>\n",
       "      <td>E3DB8BE6F78D</td>\n",
       "      <td>17.26</td>\n",
       "    </tr>\n",
       "    <tr>\n",
       "      <th>2346793</th>\n",
       "      <td>2021-12-01 16:59:47</td>\n",
       "      <td>E3DB8BE6F78D</td>\n",
       "      <td>17.26</td>\n",
       "    </tr>\n",
       "    <tr>\n",
       "      <th>2346794</th>\n",
       "      <td>2021-12-01 16:59:57</td>\n",
       "      <td>E3DB8BE6F78D</td>\n",
       "      <td>17.26</td>\n",
       "    </tr>\n",
       "    <tr>\n",
       "      <th>2346795</th>\n",
       "      <td>2021-12-01 16:59:58</td>\n",
       "      <td>FC8C4D046AA9</td>\n",
       "      <td>13.64</td>\n",
       "    </tr>\n",
       "  </tbody>\n",
       "</table>\n",
       "<p>998 rows × 3 columns</p>\n",
       "</div>"
      ],
      "text/plain": [
       "                recorded_at        sensor  value\n",
       "2345798 2021-12-01 16:00:01  E50490B330D9  13.05\n",
       "2345799 2021-12-01 16:00:02  FC8C4D046AA9  13.63\n",
       "2345800 2021-12-01 16:00:05  E3DB8BE6F78D  17.30\n",
       "2345801 2021-12-01 16:00:07  C21A09D4E1DB   4.94\n",
       "2345802 2021-12-01 16:00:11  E50490B330D9  13.06\n",
       "...                     ...           ...    ...\n",
       "2346791 2021-12-01 16:59:25  C21A09D4E1DB   4.53\n",
       "2346792 2021-12-01 16:59:36  E3DB8BE6F78D  17.26\n",
       "2346793 2021-12-01 16:59:47  E3DB8BE6F78D  17.26\n",
       "2346794 2021-12-01 16:59:57  E3DB8BE6F78D  17.26\n",
       "2346795 2021-12-01 16:59:58  FC8C4D046AA9  13.64\n",
       "\n",
       "[998 rows x 3 columns]"
      ]
     },
     "execution_count": 8,
     "metadata": {},
     "output_type": "execute_result"
    }
   ],
   "source": [
    "df_h = df[(df.recorded_at > np.datetime64('2021-12-01 16:00')) & (df.recorded_at < np.datetime64('2021-12-01 17:00'))]\n",
    "df_h"
   ]
  },
  {
   "cell_type": "code",
   "execution_count": 9,
   "id": "d3d61ec3",
   "metadata": {},
   "outputs": [
    {
     "name": "stderr",
     "output_type": "stream",
     "text": [
      "/var/folders/8m/nm_6j1tx7fbb3rxt4kn8d8z40000gn/T/ipykernel_64558/2321056034.py:1: UserWarning: Boolean Series key will be reindexed to match DataFrame index.\n",
      "  df_e5 = df_h[df.sensor == 'E50490B330D9'].reset_index()\n"
     ]
    },
    {
     "data": {
      "text/html": [
       "<div>\n",
       "<style scoped>\n",
       "    .dataframe tbody tr th:only-of-type {\n",
       "        vertical-align: middle;\n",
       "    }\n",
       "\n",
       "    .dataframe tbody tr th {\n",
       "        vertical-align: top;\n",
       "    }\n",
       "\n",
       "    .dataframe thead th {\n",
       "        text-align: right;\n",
       "    }\n",
       "</style>\n",
       "<table border=\"1\" class=\"dataframe\">\n",
       "  <thead>\n",
       "    <tr style=\"text-align: right;\">\n",
       "      <th></th>\n",
       "      <th>index</th>\n",
       "      <th>recorded_at</th>\n",
       "      <th>sensor</th>\n",
       "      <th>value</th>\n",
       "    </tr>\n",
       "  </thead>\n",
       "  <tbody>\n",
       "    <tr>\n",
       "      <th>0</th>\n",
       "      <td>2345798</td>\n",
       "      <td>2021-12-01 16:00:01</td>\n",
       "      <td>E50490B330D9</td>\n",
       "      <td>13.05</td>\n",
       "    </tr>\n",
       "    <tr>\n",
       "      <th>1</th>\n",
       "      <td>2345802</td>\n",
       "      <td>2021-12-01 16:00:11</td>\n",
       "      <td>E50490B330D9</td>\n",
       "      <td>13.06</td>\n",
       "    </tr>\n",
       "    <tr>\n",
       "      <th>2</th>\n",
       "      <td>2345806</td>\n",
       "      <td>2021-12-01 16:00:21</td>\n",
       "      <td>E50490B330D9</td>\n",
       "      <td>13.06</td>\n",
       "    </tr>\n",
       "    <tr>\n",
       "      <th>3</th>\n",
       "      <td>2345810</td>\n",
       "      <td>2021-12-01 16:00:34</td>\n",
       "      <td>E50490B330D9</td>\n",
       "      <td>13.06</td>\n",
       "    </tr>\n",
       "    <tr>\n",
       "      <th>4</th>\n",
       "      <td>2345814</td>\n",
       "      <td>2021-12-01 16:00:44</td>\n",
       "      <td>E50490B330D9</td>\n",
       "      <td>13.06</td>\n",
       "    </tr>\n",
       "    <tr>\n",
       "      <th>...</th>\n",
       "      <td>...</td>\n",
       "      <td>...</td>\n",
       "      <td>...</td>\n",
       "      <td>...</td>\n",
       "    </tr>\n",
       "    <tr>\n",
       "      <th>201</th>\n",
       "      <td>2346714</td>\n",
       "      <td>2021-12-01 16:49:46</td>\n",
       "      <td>E50490B330D9</td>\n",
       "      <td>13.05</td>\n",
       "    </tr>\n",
       "    <tr>\n",
       "      <th>202</th>\n",
       "      <td>2346718</td>\n",
       "      <td>2021-12-01 16:49:57</td>\n",
       "      <td>E50490B330D9</td>\n",
       "      <td>13.05</td>\n",
       "    </tr>\n",
       "    <tr>\n",
       "      <th>203</th>\n",
       "      <td>2346760</td>\n",
       "      <td>2021-12-01 16:55:15</td>\n",
       "      <td>E50490B330D9</td>\n",
       "      <td>13.05</td>\n",
       "    </tr>\n",
       "    <tr>\n",
       "      <th>204</th>\n",
       "      <td>2346767</td>\n",
       "      <td>2021-12-01 16:55:58</td>\n",
       "      <td>E50490B330D9</td>\n",
       "      <td>13.05</td>\n",
       "    </tr>\n",
       "    <tr>\n",
       "      <th>205</th>\n",
       "      <td>2346780</td>\n",
       "      <td>2021-12-01 16:58:08</td>\n",
       "      <td>E50490B330D9</td>\n",
       "      <td>13.04</td>\n",
       "    </tr>\n",
       "  </tbody>\n",
       "</table>\n",
       "<p>206 rows × 4 columns</p>\n",
       "</div>"
      ],
      "text/plain": [
       "       index         recorded_at        sensor  value\n",
       "0    2345798 2021-12-01 16:00:01  E50490B330D9  13.05\n",
       "1    2345802 2021-12-01 16:00:11  E50490B330D9  13.06\n",
       "2    2345806 2021-12-01 16:00:21  E50490B330D9  13.06\n",
       "3    2345810 2021-12-01 16:00:34  E50490B330D9  13.06\n",
       "4    2345814 2021-12-01 16:00:44  E50490B330D9  13.06\n",
       "..       ...                 ...           ...    ...\n",
       "201  2346714 2021-12-01 16:49:46  E50490B330D9  13.05\n",
       "202  2346718 2021-12-01 16:49:57  E50490B330D9  13.05\n",
       "203  2346760 2021-12-01 16:55:15  E50490B330D9  13.05\n",
       "204  2346767 2021-12-01 16:55:58  E50490B330D9  13.05\n",
       "205  2346780 2021-12-01 16:58:08  E50490B330D9  13.04\n",
       "\n",
       "[206 rows x 4 columns]"
      ]
     },
     "execution_count": 9,
     "metadata": {},
     "output_type": "execute_result"
    }
   ],
   "source": [
    "df_e5 = df_h[df.sensor == 'E50490B330D9'].reset_index()\n",
    "df_e5"
   ]
  },
  {
   "cell_type": "code",
   "execution_count": 10,
   "id": "d5362f5b",
   "metadata": {
    "scrolled": true
   },
   "outputs": [
    {
     "data": {
      "text/plain": [
       "<AxesSubplot:>"
      ]
     },
     "execution_count": 10,
     "metadata": {},
     "output_type": "execute_result"
    },
    {
     "data": {
      "image/png": "[encoded data removed]",
      "text/plain": [
       "<Figure size 432x288 with 1 Axes>"
      ]
     },
     "metadata": {
      "needs_background": "light"
     },
     "output_type": "display_data"
    }
   ],
   "source": [
    "df_e5.value.plot(x='recorded_at', y='value')"
   ]
  },
  {
   "cell_type": "markdown",
   "id": "7b126c43",
   "metadata": {},
   "source": [
    "## Modeling original data"
   ]
  },
  {
   "cell_type": "code",
   "execution_count": 11,
   "id": "cbe8be6c",
   "metadata": {},
   "outputs": [],
   "source": [
    "class ModelEvaluation:\n",
    "    def __init__(self, model_constructor):\n",
    "        self.model = model_constructor()\n",
    "\n",
    "    def fit(self, datetime64s, values):\n",
    "        self.x = normalize_datetime64s(datetime64s)\n",
    "        self.values = values\n",
    "        return self.model.fit(\n",
    "            self.x.reshape(-1, 1),\n",
    "            self.values.reshape(-1, 1)\n",
    "        )\n",
    "\n",
    "    def loss(self):\n",
    "        self.predicted = self.model.predict(self.x.reshape(-1, 1))\n",
    "        self.mse = mean_squared_error(\n",
    "            self.values,\n",
    "            self.model.predict(self.x.reshape(-1, 1))\n",
    "        )\n",
    "        return self.mse\n",
    "\n",
    "    def plot(self, comparison=None):\n",
    "        data = {\n",
    "            'x': self.x,\n",
    "            'predicted': self.predicted.reshape(1, -1)[0],\n",
    "            'actual': self.values,\n",
    "        }\n",
    "        if comparison is not None:\n",
    "            data['comparison'] = comparison.reshape(1, -1)[0]\n",
    "        pd.DataFrame(data=data).plot(x='x')"
   ]
  },
  {
   "cell_type": "markdown",
   "id": "f019e2f0",
   "metadata": {},
   "source": [
    "### Ridge"
   ]
  },
  {
   "cell_type": "code",
   "execution_count": 12,
   "id": "bb273a9e",
   "metadata": {
    "scrolled": true
   },
   "outputs": [
    {
     "data": {
      "text/plain": [
       "Ridge()"
      ]
     },
     "execution_count": 12,
     "metadata": {},
     "output_type": "execute_result"
    }
   ],
   "source": [
    "ev_r = ModelEvaluation(Ridge)\n",
    "ev_r.fit(df_e5.recorded_at.values, df_e5.value.values)"
   ]
  },
  {
   "cell_type": "code",
   "execution_count": 13,
   "id": "45bf39b2",
   "metadata": {},
   "outputs": [
    {
     "data": {
      "text/plain": [
       "1.1010209770044376e-05"
      ]
     },
     "execution_count": 13,
     "metadata": {},
     "output_type": "execute_result"
    }
   ],
   "source": [
    "ev_r.loss()"
   ]
  },
  {
   "cell_type": "code",
   "execution_count": 14,
   "id": "aec0e750",
   "metadata": {},
   "outputs": [
    {
     "data": {
      "image/png": "[encoded data removed]",
      "text/plain": [
       "<Figure size 432x288 with 1 Axes>"
      ]
     },
     "metadata": {
      "needs_background": "light"
     },
     "output_type": "display_data"
    }
   ],
   "source": [
    "ev_r.plot()"
   ]
  },
  {
   "cell_type": "markdown",
   "id": "994955d6",
   "metadata": {},
   "source": [
    "### Poly Ridge"
   ]
  },
  {
   "cell_type": "code",
   "execution_count": 15,
   "id": "c97818c3",
   "metadata": {},
   "outputs": [],
   "source": [
    "def poly_ridge():\n",
    "    degree = 3\n",
    "    return make_pipeline(PolynomialFeatures(degree), Ridge())"
   ]
  },
  {
   "cell_type": "code",
   "execution_count": 16,
   "id": "d21e461d",
   "metadata": {
    "scrolled": true
   },
   "outputs": [
    {
     "name": "stderr",
     "output_type": "stream",
     "text": [
      "/Users/gua/local/mambaforge/envs/my-little-ruuvi-setup/lib/python3.10/site-packages/sklearn/linear_model/_ridge.py:156: LinAlgWarning: Ill-conditioned matrix (rcond=7.23887e-23): result may not be accurate.\n",
      "  return linalg.solve(A, Xy, sym_pos=True, overwrite_a=True).T\n"
     ]
    },
    {
     "data": {
      "text/plain": [
       "Pipeline(steps=[('polynomialfeatures', PolynomialFeatures(degree=3)),\n",
       "                ('ridge', Ridge())])"
      ]
     },
     "execution_count": 16,
     "metadata": {},
     "output_type": "execute_result"
    }
   ],
   "source": [
    "ev_pr = ModelEvaluation(poly_ridge)\n",
    "ev_pr.fit(df_e5.recorded_at.values, df_e5.value.values)"
   ]
  },
  {
   "cell_type": "code",
   "execution_count": 17,
   "id": "b1a673bc",
   "metadata": {},
   "outputs": [
    {
     "data": {
      "text/plain": [
       "4.414958156149085e-06"
      ]
     },
     "execution_count": 17,
     "metadata": {},
     "output_type": "execute_result"
    }
   ],
   "source": [
    "ev_pr.loss()"
   ]
  },
  {
   "cell_type": "code",
   "execution_count": 18,
   "id": "7b25a785",
   "metadata": {},
   "outputs": [
    {
     "data": {
      "image/png": "[encoded data removed]",
      "text/plain": [
       "<Figure size 432x288 with 1 Axes>"
      ]
     },
     "metadata": {
      "needs_background": "light"
     },
     "output_type": "display_data"
    }
   ],
   "source": [
    "ev_pr.plot(comparison=ev_r.predicted)"
   ]
  },
  {
   "cell_type": "markdown",
   "id": "731a9413",
   "metadata": {},
   "source": [
    "### Interpolation "
   ]
  },
  {
   "cell_type": "code",
   "execution_count": 19,
   "id": "b9304c48",
   "metadata": {},
   "outputs": [],
   "source": [
    "class Interpolation:\n",
    "    def fit(self, datetime64s, values):\n",
    "        self.x = normalize_datetime64s(datetime64s)\n",
    "        self.values = values\n",
    "        self.interpolator = interp1d(self.x, self.values)\n",
    "        return self.interpolator\n",
    "\n",
    "    def loss(self):\n",
    "        self.predicted = self.interpolator(self.x.reshape(-1, 1))\n",
    "        self.mse = mean_squared_error(\n",
    "            self.values,\n",
    "            self.predicted\n",
    "        )\n",
    "        return self.mse\n",
    "\n",
    "    def plot(self, comparison=None):\n",
    "        data = {\n",
    "            'x': self.x,\n",
    "            'predicted': self.predicted.reshape(1, -1)[0],\n",
    "            'actual': self.values,\n",
    "        }\n",
    "        if comparison is not None:\n",
    "            data['comparison'] = comparison.reshape(1, -1)[0]\n",
    "        pd.DataFrame(data=data).plot(x='x')"
   ]
  },
  {
   "cell_type": "code",
   "execution_count": 20,
   "id": "a21622a0",
   "metadata": {},
   "outputs": [
    {
     "data": {
      "text/plain": [
       "<scipy.interpolate.interpolate.interp1d at 0x285adaed0>"
      ]
     },
     "execution_count": 20,
     "metadata": {},
     "output_type": "execute_result"
    }
   ],
   "source": [
    "i = Interpolation()\n",
    "i.fit(df_e5.recorded_at.values, df_e5.value.values)"
   ]
  },
  {
   "cell_type": "code",
   "execution_count": 21,
   "id": "3a017568",
   "metadata": {},
   "outputs": [
    {
     "data": {
      "text/plain": [
       "0.0"
      ]
     },
     "execution_count": 21,
     "metadata": {},
     "output_type": "execute_result"
    }
   ],
   "source": [
    "i.loss()"
   ]
  },
  {
   "cell_type": "code",
   "execution_count": 22,
   "id": "0854929c",
   "metadata": {},
   "outputs": [
    {
     "data": {
      "image/png": "[encoded data removed]",
      "text/plain": [
       "<Figure size 432x288 with 1 Axes>"
      ]
     },
     "metadata": {
      "needs_background": "light"
     },
     "output_type": "display_data"
    }
   ],
   "source": [
    "i.plot(comparison=ev_pr.predicted)"
   ]
  },
  {
   "cell_type": "markdown",
   "id": "3207bd56",
   "metadata": {},
   "source": [
    "## First, last, min, max"
   ]
  },
  {
   "cell_type": "code",
   "execution_count": 23,
   "id": "3227d538",
   "metadata": {},
   "outputs": [
    {
     "data": {
      "text/plain": [
       "(197, 127)"
      ]
     },
     "execution_count": 23,
     "metadata": {},
     "output_type": "execute_result"
    }
   ],
   "source": [
    "df_e5.value.idxmin(), df_e5.value.idxmax()"
   ]
  },
  {
   "cell_type": "code",
   "execution_count": 24,
   "id": "12c51e3d",
   "metadata": {},
   "outputs": [
    {
     "data": {
      "text/plain": [
       "[0, 127, 197, 205]"
      ]
     },
     "execution_count": 24,
     "metadata": {},
     "output_type": "execute_result"
    }
   ],
   "source": [
    "keep_idx = sorted(list(set([0, df_e5.count()[0] - 1, df_e5.value.idxmin(), df_e5.value.idxmax()])))\n",
    "keep_idx"
   ]
  },
  {
   "cell_type": "code",
   "execution_count": 25,
   "id": "db86997e",
   "metadata": {},
   "outputs": [
    {
     "data": {
      "text/html": [
       "<div>\n",
       "<style scoped>\n",
       "    .dataframe tbody tr th:only-of-type {\n",
       "        vertical-align: middle;\n",
       "    }\n",
       "\n",
       "    .dataframe tbody tr th {\n",
       "        vertical-align: top;\n",
       "    }\n",
       "\n",
       "    .dataframe thead th {\n",
       "        text-align: right;\n",
       "    }\n",
       "</style>\n",
       "<table border=\"1\" class=\"dataframe\">\n",
       "  <thead>\n",
       "    <tr style=\"text-align: right;\">\n",
       "      <th></th>\n",
       "      <th>index</th>\n",
       "      <th>recorded_at</th>\n",
       "      <th>sensor</th>\n",
       "      <th>value</th>\n",
       "    </tr>\n",
       "  </thead>\n",
       "  <tbody>\n",
       "    <tr>\n",
       "      <th>0</th>\n",
       "      <td>2345798</td>\n",
       "      <td>2021-12-01 16:00:01</td>\n",
       "      <td>E50490B330D9</td>\n",
       "      <td>13.05</td>\n",
       "    </tr>\n",
       "    <tr>\n",
       "      <th>127</th>\n",
       "      <td>2346346</td>\n",
       "      <td>2021-12-01 16:26:20</td>\n",
       "      <td>E50490B330D9</td>\n",
       "      <td>13.07</td>\n",
       "    </tr>\n",
       "    <tr>\n",
       "      <th>197</th>\n",
       "      <td>2346695</td>\n",
       "      <td>2021-12-01 16:48:53</td>\n",
       "      <td>E50490B330D9</td>\n",
       "      <td>13.04</td>\n",
       "    </tr>\n",
       "    <tr>\n",
       "      <th>205</th>\n",
       "      <td>2346780</td>\n",
       "      <td>2021-12-01 16:58:08</td>\n",
       "      <td>E50490B330D9</td>\n",
       "      <td>13.04</td>\n",
       "    </tr>\n",
       "  </tbody>\n",
       "</table>\n",
       "</div>"
      ],
      "text/plain": [
       "       index         recorded_at        sensor  value\n",
       "0    2345798 2021-12-01 16:00:01  E50490B330D9  13.05\n",
       "127  2346346 2021-12-01 16:26:20  E50490B330D9  13.07\n",
       "197  2346695 2021-12-01 16:48:53  E50490B330D9  13.04\n",
       "205  2346780 2021-12-01 16:58:08  E50490B330D9  13.04"
      ]
     },
     "execution_count": 25,
     "metadata": {},
     "output_type": "execute_result"
    }
   ],
   "source": [
    "df_e5.loc[keep_idx]"
   ]
  },
  {
   "cell_type": "code",
   "execution_count": 26,
   "id": "4283cc50",
   "metadata": {},
   "outputs": [
    {
     "data": {
      "text/plain": [
       "<AxesSubplot:xlabel='recorded_at'>"
      ]
     },
     "execution_count": 26,
     "metadata": {},
     "output_type": "execute_result"
    },
    {
     "data": {
      "image/png": "[encoded data removed]",
      "text/plain": [
       "<Figure size 432x288 with 1 Axes>"
      ]
     },
     "metadata": {
      "needs_background": "light"
     },
     "output_type": "display_data"
    }
   ],
   "source": [
    "df_e5.loc[keep_idx].plot(x='recorded_at', y='value')"
   ]
  },
  {
   "cell_type": "markdown",
   "id": "5b75703a",
   "metadata": {},
   "source": [
    "## Interp, minmax"
   ]
  },
  {
   "cell_type": "code",
   "execution_count": 27,
   "id": "3c06ad7f",
   "metadata": {},
   "outputs": [
    {
     "data": {
      "text/plain": [
       "<scipy.interpolate.interpolate.interp1d at 0x286120360>"
      ]
     },
     "execution_count": 27,
     "metadata": {},
     "output_type": "execute_result"
    }
   ],
   "source": [
    "i_0 = Interpolation()\n",
    "i_0.fit(df_e5.loc[keep_idx].recorded_at.values, df_e5.loc[keep_idx].value.values)"
   ]
  },
  {
   "cell_type": "code",
   "execution_count": 28,
   "id": "451283df",
   "metadata": {},
   "outputs": [
    {
     "data": {
      "text/plain": [
       "<AxesSubplot:xlabel='x'>"
      ]
     },
     "execution_count": 28,
     "metadata": {},
     "output_type": "execute_result"
    },
    {
     "data": {
      "image/png": "[encoded data removed]",
      "text/plain": [
       "<Figure size 432x288 with 1 Axes>"
      ]
     },
     "metadata": {
      "needs_background": "light"
     },
     "output_type": "display_data"
    }
   ],
   "source": [
    "xs = normalize_datetime64s(df_e5.recorded_at.values)\n",
    "pd.DataFrame(data={\n",
    "    'x': xs,\n",
    "    'original': i.interpolator(xs),\n",
    "    'minmax': i_0.interpolator(xs),\n",
    "}).plot(x='x')"
   ]
  },
  {
   "cell_type": "code",
   "execution_count": 29,
   "id": "5c6287d1",
   "metadata": {},
   "outputs": [
    {
     "data": {
      "text/plain": [
       "3.618979350971755e-05"
      ]
     },
     "execution_count": 29,
     "metadata": {},
     "output_type": "execute_result"
    }
   ],
   "source": [
    "mean_squared_error(\n",
    "    i.interpolator(xs),\n",
    "    i_0.interpolator(xs)\n",
    ")"
   ]
  },
  {
   "cell_type": "markdown",
   "id": "c86c6f81",
   "metadata": {},
   "source": [
    "## Simplifier evaluation"
   ]
  },
  {
   "cell_type": "code",
   "execution_count": 30,
   "id": "63da7a75",
   "metadata": {},
   "outputs": [],
   "source": [
    "class SimplifierEvaluation:\n",
    "    def __init__(self, simplifier):\n",
    "        self.simplifier = simplifier\n",
    "\n",
    "    def fit(self, datetime64s, values, **kwargs):\n",
    "        self.x = normalize_datetime64s(datetime64s)\n",
    "        self.values = values\n",
    "        self.x_s, self.values_s = self.simplifier(self.x, values, **kwargs)\n",
    "        self.interpolator = interp1d(self.x, self.values)\n",
    "        self.interpolator_s = interp1d(self.x_s, self.values_s)\n",
    "\n",
    "    def loss(self):\n",
    "        return mean_squared_error(\n",
    "            self.interpolator(self.x),\n",
    "            self.interpolator_s(self.x)\n",
    "        )\n",
    "\n",
    "    def ratio(self):\n",
    "        return float(len(self.values_s)) / float(len(self.values))\n",
    "\n",
    "    def plot(self):\n",
    "        xs = normalize_datetime64s(df_e5.recorded_at.values)\n",
    "        pd.DataFrame(data={\n",
    "            'x': xs,\n",
    "            'original': self.interpolator(self.x),\n",
    "            'simplified': self.interpolator_s(self.x),\n",
    "        }).plot(x='x')"
   ]
  },
  {
   "cell_type": "markdown",
   "id": "b38a497c",
   "metadata": {},
   "source": [
    "### First, last, min, max "
   ]
  },
  {
   "cell_type": "code",
   "execution_count": 31,
   "id": "563311b9",
   "metadata": {},
   "outputs": [],
   "source": [
    "def first_last_min_max(x, y):\n",
    "    keep_idx = sorted(list(set([0, len(x) - 1, np.argmin(y), np.argmax(y)])))\n",
    "    return (x[keep_idx], y[keep_idx])"
   ]
  },
  {
   "cell_type": "code",
   "execution_count": 32,
   "id": "d66fbea1",
   "metadata": {},
   "outputs": [],
   "source": [
    "s = SimplifierEvaluation(first_last_min_max)"
   ]
  },
  {
   "cell_type": "code",
   "execution_count": 33,
   "id": "6f3e3094",
   "metadata": {},
   "outputs": [],
   "source": [
    "s.fit(df_e5.recorded_at, df_e5.value)"
   ]
  },
  {
   "cell_type": "code",
   "execution_count": 34,
   "id": "d053ae17",
   "metadata": {},
   "outputs": [
    {
     "data": {
      "text/plain": [
       "(3.618979350971755e-05, 0.019417475728155338)"
      ]
     },
     "execution_count": 34,
     "metadata": {},
     "output_type": "execute_result"
    }
   ],
   "source": [
    "s.loss(), s.ratio()"
   ]
  },
  {
   "cell_type": "code",
   "execution_count": 35,
   "id": "7d0fbb0c",
   "metadata": {},
   "outputs": [
    {
     "data": {
      "image/png": "[encoded data removed]",
      "text/plain": [
       "<Figure size 432x288 with 1 Axes>"
      ]
     },
     "metadata": {
      "needs_background": "light"
     },
     "output_type": "display_data"
    }
   ],
   "source": [
    "s.plot()"
   ]
  },
  {
   "cell_type": "markdown",
   "id": "642fc22a",
   "metadata": {},
   "source": [
    "### Remove intermediates"
   ]
  },
  {
   "cell_type": "code",
   "execution_count": 36,
   "id": "83cc6df6",
   "metadata": {},
   "outputs": [],
   "source": [
    "def remove_intermediates(x, y):\n",
    "    remove_indices = []\n",
    "    for w in window(enumerate(zip(x, y)), 3):\n",
    "        x0, y0 = w[0][1]\n",
    "        x1, y1 = w[1][1]\n",
    "        x2, y2 = w[2][1]\n",
    "        if y0 == y1 and y1 == y2:\n",
    "            remove_indices.append(w[1][0])\n",
    "    keep_idxs = set(list(range(len(x)))) - set(remove_indices)\n",
    "    return x[keep_idxs], y[keep_idxs]"
   ]
  },
  {
   "cell_type": "code",
   "execution_count": 37,
   "id": "6701a3fe",
   "metadata": {},
   "outputs": [],
   "source": [
    "s = SimplifierEvaluation(remove_intermediates)"
   ]
  },
  {
   "cell_type": "code",
   "execution_count": 38,
   "id": "31c50266",
   "metadata": {},
   "outputs": [],
   "source": [
    "s.fit(df_e5.recorded_at, df_e5.value)"
   ]
  },
  {
   "cell_type": "code",
   "execution_count": 39,
   "id": "469030aa",
   "metadata": {},
   "outputs": [
    {
     "data": {
      "text/plain": [
       "(0.0, 0.09223300970873786)"
      ]
     },
     "execution_count": 39,
     "metadata": {},
     "output_type": "execute_result"
    }
   ],
   "source": [
    "s.loss(), s.ratio()"
   ]
  },
  {
   "cell_type": "code",
   "execution_count": 40,
   "id": "92a5a651",
   "metadata": {},
   "outputs": [
    {
     "data": {
      "image/png": "[encoded data removed]",
      "text/plain": [
       "<Figure size 432x288 with 1 Axes>"
      ]
     },
     "metadata": {
      "needs_background": "light"
     },
     "output_type": "display_data"
    }
   ],
   "source": [
    "s.plot()"
   ]
  },
  {
   "cell_type": "markdown",
   "id": "d207a634",
   "metadata": {},
   "source": [
    "### Remove intermediates fuzzy"
   ]
  },
  {
   "cell_type": "code",
   "execution_count": 41,
   "id": "c6b9201e",
   "metadata": {},
   "outputs": [],
   "source": [
    "def remove_intermediates_fuzzy(x, y, allowed_delta=0.01):\n",
    "    remove_indices = []\n",
    "    for w in window(enumerate(zip(x, y)), 3):\n",
    "        x0, y0 = w[0][1]\n",
    "        x1, y1 = w[1][1]\n",
    "        x2, y2 = w[2][1]\n",
    "\n",
    "        prop_x = (x1 - x0) / (x2 - x0)\n",
    "        d_y = y2 - y0\n",
    "        derived = y0 + prop_x * d_y\n",
    "        delta = abs((abs(derived) - abs(y1)) / max(abs(y0), abs(y1), abs(y2)))\n",
    "\n",
    "        if abs(delta) < allowed_delta:\n",
    "            remove_indices.append(w[1][0])\n",
    "\n",
    "    keep_idxs = (set(list(range(len(x)))) - set(remove_indices)) | set([np.argmin(y), np.argmax(y)])\n",
    "    return x[keep_idxs], y[keep_idxs]"
   ]
  },
  {
   "cell_type": "code",
   "execution_count": 42,
   "id": "b091f31f",
   "metadata": {},
   "outputs": [
    {
     "data": {
      "text/plain": [
       "(0    1\n",
       " 1    2\n",
       " 3    4\n",
       " dtype: int64,\n",
       " 0    1001.0\n",
       " 1    1003.2\n",
       " 3    1007.0\n",
       " dtype: float64)"
      ]
     },
     "execution_count": 42,
     "metadata": {},
     "output_type": "execute_result"
    }
   ],
   "source": [
    "remove_intermediates_fuzzy(pd.Series([1, 2, 3, 4]), pd.Series([1001, 1003.2, 1005, 1007]), allowed_delta=0.0001)"
   ]
  },
  {
   "cell_type": "code",
   "execution_count": 43,
   "id": "92e2525f",
   "metadata": {},
   "outputs": [],
   "source": [
    "s = SimplifierEvaluation(remove_intermediates_fuzzy)"
   ]
  },
  {
   "cell_type": "code",
   "execution_count": 44,
   "id": "4c4e21d4",
   "metadata": {},
   "outputs": [],
   "source": [
    "s.fit(df_e5.recorded_at, df_e5.value, allowed_delta=0.005)"
   ]
  },
  {
   "cell_type": "code",
   "execution_count": 45,
   "id": "6893b2fe",
   "metadata": {},
   "outputs": [
    {
     "data": {
      "text/plain": [
       "(3.618979350971755e-05, 0.019417475728155338)"
      ]
     },
     "execution_count": 45,
     "metadata": {},
     "output_type": "execute_result"
    }
   ],
   "source": [
    "s.loss(), s.ratio()"
   ]
  },
  {
   "cell_type": "code",
   "execution_count": 46,
   "id": "a4621345",
   "metadata": {},
   "outputs": [
    {
     "data": {
      "image/png": "[encoded data removed]",
      "text/plain": [
       "<Figure size 432x288 with 1 Axes>"
      ]
     },
     "metadata": {
      "needs_background": "light"
     },
     "output_type": "display_data"
    }
   ],
   "source": [
    "s.plot()"
   ]
  },
  {
   "cell_type": "markdown",
   "id": "94a8a4c6",
   "metadata": {},
   "source": [
    "#### Test on more data"
   ]
  },
  {
   "cell_type": "code",
   "execution_count": 47,
   "id": "5fccb266",
   "metadata": {},
   "outputs": [],
   "source": [
    "def analyze_simplification(df, simplifier, **kwargs):\n",
    "    df['recorded_at_dt'] = pd.to_datetime(df.recorded_at)\n",
    "\n",
    "    gb = df.groupby([\n",
    "        df.sensor,\n",
    "        df.recorded_at_dt.dt.month,\n",
    "        df.recorded_at_dt.dt.day,\n",
    "        df.recorded_at_dt.dt.hour\n",
    "    ])\n",
    "    \n",
    "    losses, ratios = [], []\n",
    "    for key, item in gb:\n",
    "        s = SimplifierEvaluation(simplifier)\n",
    "        if len(item) < 3:\n",
    "            continue\n",
    "            \n",
    "        i2 = item.reset_index()\n",
    "        s.fit(i2.recorded_at, i2.value, **kwargs)\n",
    "        losses.append(s.loss())\n",
    "        ratios.append(s.ratio())\n",
    "\n",
    "    plt.figure(figsize=(12, 3))\n",
    "    plt.subplot(1, 2, 1)\n",
    "    plt.hist(losses, bins=13)\n",
    "    plt.subplot(1, 2, 2)\n",
    "    plt.hist(ratios, bins=13)"
   ]
  },
  {
   "cell_type": "code",
   "execution_count": 48,
   "id": "bd366126",
   "metadata": {},
   "outputs": [
    {
     "data": {
      "image/png": "[encoded data removed]",
      "text/plain": [
       "<Figure size 864x216 with 2 Axes>"
      ]
     },
     "metadata": {
      "needs_background": "light"
     },
     "output_type": "display_data"
    }
   ],
   "source": [
    "analyze_simplification(df, remove_intermediates_fuzzy)"
   ]
  },
  {
   "cell_type": "code",
   "execution_count": 49,
   "id": "a111abc0",
   "metadata": {},
   "outputs": [
    {
     "data": {
      "image/png": "[encoded data removed]",
      "text/plain": [
       "<Figure size 864x216 with 2 Axes>"
      ]
     },
     "metadata": {
      "needs_background": "light"
     },
     "output_type": "display_data"
    }
   ],
   "source": [
    "analyze_simplification(df_battery_voltage, remove_intermediates_fuzzy)"
   ]
  },
  {
   "cell_type": "code",
   "execution_count": 50,
   "id": "56729ffd",
   "metadata": {},
   "outputs": [
    {
     "data": {
      "image/png": "[encoded data removed]",
      "text/plain": [
       "<Figure size 864x216 with 2 Axes>"
      ]
     },
     "metadata": {
      "needs_background": "light"
     },
     "output_type": "display_data"
    }
   ],
   "source": [
    "analyze_simplification(df_pressure, remove_intermediates_fuzzy, allowed_delta=0.01)"
   ]
  },
  {
   "cell_type": "code",
   "execution_count": 51,
   "id": "a5836ff0",
   "metadata": {},
   "outputs": [
    {
     "data": {
      "image/png": "[encoded data removed]",
      "text/plain": [
       "<Figure size 864x216 with 2 Axes>"
      ]
     },
     "metadata": {
      "needs_background": "light"
     },
     "output_type": "display_data"
    }
   ],
   "source": [
    "analyze_simplification(df_humidity, remove_intermediates_fuzzy, allowed_delta=0.01)"
   ]
  },
  {
   "cell_type": "code",
   "execution_count": null,
   "id": "d92225fb",
   "metadata": {},
   "outputs": [],
   "source": []
  }
 ],
 "metadata": {
  "kernelspec": {
   "display_name": "Python 3 (ipykernel)",
   "language": "python",
   "name": "python3"
  },
  "language_info": {
   "codemirror_mode": {
    "name": "ipython",
    "version": 3
   },
   "file_extension": ".py",
   "mimetype": "text/x-python",
   "name": "python",
   "nbconvert_exporter": "python",
   "pygments_lexer": "ipython3",
   "version": "3.10.0"
  }
 },
 "nbformat": 4,
 "nbformat_minor": 5
}
